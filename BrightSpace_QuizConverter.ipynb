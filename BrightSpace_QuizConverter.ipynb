{
  "nbformat": 4,
  "nbformat_minor": 0,
  "metadata": {
    "colab": {
      "provenance": [],
      "authorship_tag": "ABX9TyNjdY92s4RxlzVVdSxvW94g",
      "include_colab_link": true
    },
    "kernelspec": {
      "name": "python3",
      "display_name": "Python 3"
    },
    "language_info": {
      "name": "python"
    },
    "widgets": {
      "application/vnd.jupyter.widget-state+json": {
        "e38605628f494b418a7fe958b825744f": {
          "model_module": "@jupyter-widgets/controls",
          "model_name": "TextareaModel",
          "model_module_version": "1.5.0",
          "state": {
            "_dom_classes": [],
            "_model_module": "@jupyter-widgets/controls",
            "_model_module_version": "1.5.0",
            "_model_name": "TextareaModel",
            "_view_count": null,
            "_view_module": "@jupyter-widgets/controls",
            "_view_module_version": "1.5.0",
            "_view_name": "TextareaView",
            "continuous_update": true,
            "description": "Questions:",
            "description_tooltip": null,
            "disabled": false,
            "layout": "IPY_MODEL_abc7ec53226b4f4ea6d3abe12b952641",
            "placeholder": "Paste your questions here...",
            "rows": null,
            "style": "IPY_MODEL_f09cab58b3a54ea1a909d3aa5edf8118",
            "value": "3. Which of the following is NOT a difference between Java and Python?\nJava is statically typed, while Python is dynamically typed\nJava code is compiled, while Python code is interpreted\n*Java and Python both use curly braces for code blocks\nJava has a more verbose syntax compared to Python\nJava is more commonly used for enterprise applications, while Python is more popular for scripting and data analysis\n\n4. Suppose I write a one-class application HotDogStand. Which of the following is NOT required for it to compile and run?\n*The class name must be declared as \"public class hotdogstand\"\nThe class name must match the filename (HotDogStand.java)\nThe class must contain a main method with the correct signature\nThe main method must be declared as public and static\nThe class and main method must be inside a package declaration\n\n5. What is the correct way to compile HotDogStand from the command-line?\n*javac HotDogStand.java\njava HotDogStand.java\ncompile HotDogStand.java\ngcc HotDogStand.java\njavac HotDogStand\n\n6. What is the correct way to run HotDogStand from the command-line?\njavac HotDogStand.java\n*java HotDogStand\nrun HotDogStand.java\n./HotDogStand\nexecute HotDogStand\n\n7. Suppose HotDogStand fails to compile. Which of the following is NOT a reason (focus on beginner errors)\nMissing semicolon at the end of a statement\nMisspelled variable or method names\nIncorrect capitalization of class, method, or variable names\nUsing the wrong data type for a variable\n*Incorrect indentation of code blocks\n\n\n9. What is the correct, complete code for an application HotDogStand to print \"Welcome to the Fancy Hot Dog Stand!\" to screen? \nclass HotDogStand() { public static void main() { print(\"Welcome to the Fancy Hot Dog Stand!\"); } }\npublic class HotDogStand { public void main(String[] args) { System.out.println(\"Welcome to the Fancy Hot Dog Stand!\"); } }\npublic static void HotDogStand(String[] args) { System.out.println(\"Welcome to the Fancy Hot Dog Stand!\"); }\n*public class HotDogStand { public static void main(String[] args) { System.out.println(\"Welcome to the Fancy Hot Dog Stand!\"); } }\npublic class HotDogStand { public static void main(String[] args) { console.log(\"Welcome to the Fancy Hot Dog Stand!\"); } }\n\n10. How do I leave a comment saying \"This is the main class for the HotDogStand application\" in Java?\nThis is the main class for the HotDogStand application\n/* This is the main class for the HotDogStand application */\n<!-- This is the main class for the HotDogStand application -->\n*// This is the main class for the HotDogStand application\n/* This is the main class for the HotDogStand application */\n\n1. How do I print \"Hot dogs are delicious!\" to the screen?\nprint(\"Hot dogs are delicious!\")\n*System.out.println(\"Hot dogs are delicious!\");\nconsole.log(\"Hot dogs are delicious!\");\necho \"Hot dogs are delicious!\";\nprintf(\"Hot dogs are delicious!\");\n\n2. Which of the following is NOT a primitive data type in Java?\nint\ndouble\nboolean\nchar\n*String\n\n3. How do I declare a variable to hold the number of hot dogs sold?\ndouble hotDogsSold;\nString hotDogsSold;\n*int hotDogsSold;\nfloat hotDogsSold;\nboolean hotDogsSold;\n\n4. How do I declare a variable to hold the price of a hot dog?\nint hotDogPrice;\n*double hotDogPrice;\nfloating hotDogPrice;\ndecimal hotDogPrice;\nboolean hotDogPrice;\n\n6. Given variables numBeefDogs and numVeganDogs, which of the following will NOT print them both?\nSystem.out.println(\"Beef dogs: \" + numBeefDogs + \", Vegan dogs: \" + numVeganDogs);\nSystem.out.printf(\"Beef dogs: %d, Vegan dogs: %d\", numBeefDogs, numVeganDogs);\nSystem.out.println(\"Beef dogs: \" + numBeefDogs); System.out.println(\"Vegan dogs: \" + numVeganDogs);\nSystem.out.println(String.format(\"Beef dogs: %d, Vegan dogs: %d\", numBeefDogs, numVeganDogs));\n*System.out.println(numBeefDogs) + (numVeganDogs) ;\n\n7. Suppose I want to print \"Chili cheese dog\" only if both hasChili and hasCheese are true. How do I do this?\n*if (hasChili && hasCheese) { System.out.println(\"Chili cheese dog\"); }\nif (hasChili || hasCheese) { System.out.println(\"Chili cheese dog\"); }\nif (hasChili) { if (!hasCheese) { System.out.println(\"Chili cheese dog\"); } }\nif (hasChili and hasCheese) { System.out.println(\"Chili cheese dog\"); }\nif (hasChili, hasCheese) { System.out.println(\"Chili cheese dog\"); }\n\n8. Suppose I want to print \"Sauerkraut dog\" if hasKraut is true and \"Regular hot dog\" otherwise. How do I do this?\nif (not hasKraut) { System.out.println(\"Sauerkraut dog\"); } else { System.out.println(\"Regular hot dog\"); }\nif (hasKraut.equals(“Kraut”)) { System.out.println(\"Sauerkraut dog\"); } if else { System.out.println(\"Regular hot dog\"); }\nif (hasKraut == True) { System.out.println(\"Sauerkraut dog\"); } if (hasKraut == false) { System.out.println(\"Regular hot dog\"); }\nif (hasKraut) { System.out.println(\"Sauerkraut dog\"); } else if (!hasKraut) { System.out.println(\"Regular hot dog\"); }\n*if (!hasKraut) { System.out.println(\"Regular hot dog\"); } else { System.out.println(\"Sauerkraut dog\"); }\n\n9. What is the correct syntax to print \"Yummy hot dog!\" numTimes number of times?\nfor (int i = 1; i < numTimes; i++) { System.out.println(\"Yummy hot dog!\"); }\nwhile (numTimes > 0) { System.out.println(\"Yummy hot dog!\"); numTimes++; }\ndo { System.out.println(\"Yummy hot dog!\");} while (numTimes > 0);\n*for (int i = 0; i < numTimes; i++) { System.out.println(\"Yummy hot dog!\"); }\nfor (int i = numTimes; i > 0; i++) { System.out.println(\"Yummy hot dog!\"); }\n\n10. Given an array of Strings toppings, how do I print each of them?\nfor (int i = 0; i < toppings.length; i++) { System.out.println(toppings[i]); }\n*for (String topping : toppings) { System.out.println(topping); }\nwhile (toppings.hasNext()) { System.out.println(toppings.next()); }\nfor (int i = 1; i <= toppings.length; i++) { System.out.println(toppings[i]); }\nfor (int i = toppings.length - 1; i >= 0; i--) { System.out.println(toppings[i]); }\n\n2. Which of the following is an accurate description of how to get input for a variable numHotDogs of type int?\n*Scanner scanner = new Scanner(System.in); int numHotDogs = scanner.nextInt();\nScanner scanner = new Scanner(System.in); int numHotDogs = scanner.nextLine();\nint numHotDogs = System.in.readInt();\nint numHotDogs = input.nextInt();\nint numHotDogs = scanner.nextInt();\n\n5. What is the correct way of printing \"Keep cooking hot dogs!\" while isCooking or hasCustomers are true?\nwhile (isCooking && hasCustomers) { System.out.println(\"Keep cooking hot dogs!\"); }\nwhile (isCooking | hasCustomers) { System.out.println(\"Keep cooking hot dogs!\"); }\nwhile (isCooking & hasCustomers) { System.out.println(\"Keep cooking hot dogs!\"); }\nwhile isCooking || hasCustomers { System.out.println(\"Keep cooking hot dogs!\"); }\n*while (isCooking || hasCustomers) { System.out.println(\"Keep cooking hot dogs!\"); }\n\n6. Which of the following is a correct way of defining a method calculatePrice with return type double and parameters int quantity and double unitPrice?\ndouble public calculatePrice(int quantity, double unitPrice) { // method body }\npublic void double calculatePrice(int quantity, double unitPrice) { // method body }\n*public double calculatePrice(int quantity, double unitPrice) { // method body }\npublic double, double, int calculatePrice(quantity, unitPrice) { // method body }\npublic double calculatePrice(int quantity, double unitPrice);\n\n8. Which of the following is a correct way of calling a method addKetchup from an object hotDog?\nHotDog.addKetchup();\naddKetchup(hotDog);\nhotDog->addKetchup();\n*hotDog.addKetchup();\nhotDog::addKetchup();\n\n9. Which of the following methods sucessfully returns a String value?\npublic void getHotDogName() { return \"Classic Hot Dog\"; }\n*public String getHotDogName() { return \"Classic Hot Dog\"; }\npublic String getHotDogName() { System.out.println(\"Classic Hot Dog\"); }\npublic void getHotDogName() { System.out.println(\"Classic Hot Dog\"); }\npublic String getHotDogName();\n\n3. Suppose I have a class FalafelWrap. Which of the following might be an attribute of FalafelWrap?\n*ingredients\naddHummus()\ncalculateCalories()\na specific falafel wrap ordered by a customer\nwrapFalafel()\n\n4. Suppose I have a class PretzelStand. Which of the following might be a method of PretzelStand?\nlocation\ninventory\n*sellPretzel()\na specific pretzel stand in the mall\npretzelsInStock\n\n5. Which of the following is NOT true about the relationship between classes and objects?\nA class is a blueprint for creating objects\nAn object is an instance of a class\nMultiple objects can be created from a single class\nObjects inherit attributes and methods from their class\n*A class is an instance of an object\n\n6. Which of the following is NOT true about object-oriented programming?\n*It primarily focuses on writing procedural code\nIt organizes code into classes and objects\nIt promotes code reusability through inheritance\nIt encapsulates data and behavior within objects\nIt allows for polymorphism through method overriding\n\n7. Suppose you are writing a Java application for a restaurant. Which of the following would be a class (not a method, attribute, or object)?\naddToOrder()\nprice\na specific burger on the menu\ncalculateTotal()\n*MenuItem\n\n8. Suppose you are writing a Java application for a library. Which of the following would be an object (not a class, method, or attribute)?\nBook\nAuthor\n*a specific copy of \"To Kill a Mockingbird\"\naddToCollection()\nisbn\n\n1. Which statement correctly describes the relationship between classes, objects, and constructors?\nA constructor is a blueprint for creating classes\n*A constructor is a special method in a class that creates and initializes objects of that class\nAn object is a blueprint for creating constructors\nA class is an instance of a constructor\nAn object is a special method in a class that creates and initializes constructors\n\n2. Suppose I have a class Hamburger. Which of the following could be a constructor for Hamburger?\nprivate String getPattyType()\npublic void addToppings(String[] toppings)\nprivate double calculatePrice()\n*public Hamburger(String pattyType, boolean hasCheese)\npublic int pattyType;\n\n5. Suppose I have a constructor for class Taco. Which of the following would work to create a Taco object?\nTaco myTaco = Taco(\"Chicken\", true, \"Guacamole\");\nTaco myTaco = new Taco;\n*Taco myTaco = new Taco(\"Beef\", false, new String[]{\"Cheese\", \"Lettuce\", \"Salsa\"});\nTaco myTaco = Taco(new String[]{\"Pork\", \"Onions\", \"Cilantro\"});\nTaco myTaco = new Taco[3];\n\n8. What does it mean for an attribute or method in class InventoryItem to be private?\n*It can only be accessed within the InventoryItem class itself\nIt can only be accessed by any other class in the same package\nIt can be accessed by any other class in any package\nIt can only be accessed by subclasses of InventoryItem, even in different packages\nIt can only be accessed by any code that creates an instance of InventoryItem\n\n9. What does it mean for an attribute or method in class Recipe to be public?\nIt can only be accessed within the Recipe class itself\nIt can only be accessed by any other class in the same package\n*It can be accessed by any other class in any package\nIt can only be accessed by subclasses of Recipe, even in different packages\nIt can only be accessed by code that creates an instance of Recipe\n\n10. Suppose I have a class Beverage, and I want to create and use objects from class Beverage in class CateringEvent. How do I do this?\nExtend the Beverage class in CateringEvent\nImplement the Beverage class in CateringEvent\nImport the Beverage class in CateringEvent\nDeclare the Beverage class inside the CateringEvent class\n*Create an instance of Beverage in CateringEvent using the new keyword and Beverage's constructor\n\n\n1. I'd like to make a new object InspectionReport that has properties restaurantName and inspectionDate. Which of the following are NOT required?\n*Importing the java.util.Date package\nDeclaring the InspectionReport class\nDefining a constructor for InspectionReport\nDeclaring the restaurantName and inspectionDate fields\nInitializing the restaurantName and inspectionDate fields in the constructor\n\n2. I'd like to create an array violationCodes with values \"1A\", \"2B\", \"3C\", \"4D\". How do I do this?\nString violationCodes[] = new String[]{\"1A\", \"2B\", \"3C\", \"4D\"};\n*String[] violationCodes = {\"1A\", \"2B\", \"3C\", \"4D\"};\nString[] violationCodes = new String[4]; violationCodes = [\"1A\", \"2B\", \"3C\", \"4D\"];\nString[] violationCodes = new String[4]; violationCodes[0] = \"1A\"; violationCodes[1] = \"2B\"; violationCodes[2] = \"3C\"; violationCodes[3] = \"4D\";\nString[] violationCodes = new String[]{\"1A\", \"2B\", \"3C\", \"4D\"};\n\n3. Which of the following is NOT a legal operation on array inspectionScores?\ninspectionScores[3] = 85;\nint score = inspectionScores[2];\n*inspectionScores.add(90);\nint length = inspectionScores.length;\ninspectionScores[1] = inspectionScores[0];\n\n6. Which of the following is NOT a legal operation on ArrayList inspectors?\ninspectors.add(\"John\");\nString inspector = inspectors.get(2);\n*String lastInspector = inspectors[-1];\nint size = inspectors.size();\ninspectors.remove(0);\n\n7. I'd like to iterate through ArrayList violations and print each value. How do I do this?\n*for (String violation : violations) { System.out.println(violation); }\nfor (int i = 0; i < violations.length; i++) { System.out.println(violations[i]); }\nfor (String violation : violations) { print(violation); }\nfor (int i = 1; i <= violations.size(); i++) { System.out.println(violations.get(i)); }\nfor each (String violation in violations) { System.out.println(violation); }\n\n8. Which of the following is true of arrays, but NOT of ArrayLists?\nThey can store multiple values\nThey can be iterated over using a for-each loop\n*They have a fixed size that must be specified when they are created\nThey can store elements of different data types\nThey provide random access to elements\n\n4. Suppose you have a microbrewery application. Which of the following would NOT be an example of inheritance?\nHaving a class Ale that extends the class Beer\nHaving a class Stout that extends the class Beer\nHaving a class Lager that extends the class Beer\n*Having a class Brewery with methods addEquipment() and addIngredient()\nHaving a class CraftBeer that extends the class Beer\n\n5. Suppose you have a microbrewery application. Which of the following would NOT be an example of polymorphism?\nHaving a method calculateAlcoholContent() that behaves differently in the Ale, Stout, and Lager classes\nHaving a method serve() that behaves differently for different types of beer glasses\nOverriding the method brew() in the subclasses of Beer\n*Having a class Brewery with private fields like beerList and equipmentList\nUsing the + operator to concatenate strings and add numbers\n\n6. Suppose you have a microbrewery application. Which of the following would NOT be an example of encapsulation?\nHaving public getter and setter methods to access and modify the private fields of the Beer class\nHaving a private method calculateBitteringUnits() in the Beer class\n*Having a subclass IPA that extends the class Beer\nKeeping the fields like ingredientList and batchSize private in the Beer class\nProviding a public method getABV() to retrieve the alcohol by volume of a beer\n\n7. Suppose that IPA is a subclass of Beer. What does this mean?\n*IPA inherits the properties and methods of Beer\nBeer inherits the properties and methods of IPA\nIPA and Beer are the same class\nIPA and Beer are unrelated classes\nIPA is an abstract class and Beer is a concrete class\n\n9. Suppose you have a class Beer and want to make a subclass Stout. What is the correct syntax?\n*class Stout extends Beer { // Stout-specific properties and methods }\nclass Stout implements Beer { // Stout-specific properties and methods }\nclass Stout inherits Beer { // Stout-specific properties and methods }\nclass Stout subclass of Beer { // Stout-specific properties and methods }\nclass Stout : Beer { // Stout-specific properties and methods }\n\n2. Suppose I have an abstract class Cookie. Which of the following is NOT a feature of Cookie?\nIt cannot be instantiated directly\nIt may contain abstract methods\nIt may contain non-abstract methods\n*It must be declared using the \"interface\" keyword\nIt can be extended by other classes\n\n8. What is an overloaded constructor?\nA constructor in a subclass that overrides the constructor in the superclass\nA constructor that takes no arguments\n*Multiple constructors within the same class that accept different parameters\nA constructor that is declared as abstract\nA constructor that is inherited from the superclass\n\n9. Suppose I have a base constructor CookieOrder(). Which of the following could NOT be an additional, overloaded constructor within the same class?\n*public void CookieOrder(int quantity) { // Constructor body }\npublic CookieOrder(int quantity, String flavor) { // Constructor body }\npublic CookieOrder(String customerName, int quantity, String flavor) { // Constructor body }\npublic CookieOrder(String customerName) { // Constructor body }\npublic CookieOrder(int quantity, double price) { // Constructor body }\n\n10. Suppose that classes SugarCookie and ChocolateChipCookie are both children of Cookie. Cookie has a method calculateCalories(). Which of the following for loops shows \"polymorphism\"?\n*for (Cookie cookie : cookieList) { cookie.calculateCalories(); }\nfor (SugarCookie cookie : cookieList) { cookie.calculateCalories(); }\nfor (int i = 0; i < cookieList.size(); i++) { cookieList[i].calculateCalories(); }\nfor (ChocolateChipCookie cookie : cookieList) { cookie.calculateCalories(); }\nfor (Cookie cookie : sugarCookieList) { cookie.calculateCalories(); }\n\n1. In a candy factory application, which of the following would NOT be a benefit of using overloaded constructors?\nAllowing objects to be initialized with different sets of parameters\n*Reducing the overall number of constructors in the class\nProviding flexibility in object creation\nEnhancing code readability by providing multiple ways to create objects\nEnabling the creation of objects with default or optional parameters\n\n2. Which of the following is NOT true of the Object class?\nIt is the root class of all classes in Java\nIt provides common methods like equals(), hashCode(), and toString()\n*It has only abstract methods associated with it.\nAll classes in Java inherit from the Object class either directly or indirectly\n\nIt is part of the java.lang package\n5. Which of the following is NOT true of the relationship between subclasses and superclasses?\nSubclasses inherit non-private methods and fields from their superclass\nSubclasses can override inherited methods from their superclass\n*Subclasses can directly access private methods and fields of their superclass\nSubclasses can call the superclass constructor using the super keyword\nSubclasses can have additional methods and fields not present in their superclass\n\n4. Suppose I have a class Candy and an object chocolateBar. I want System.out.println(chocolateBar) to print out \"Delicious Chocolate Bar\". How do I do this?\n*Override the toString() method in the Candy class to return \"Delicious Chocolate Bar\"\nOverride the equals() method in the Candy class to return \"Delicious Chocolate Bar\"\nOverride the hashCode() method in the Candy class to return \"Delicious Chocolate Bar\"\nOverride the print() method in the Candy class to return \"Delicious Chocolate Bar\"\nOverride the getString() method in the Candy class to return \"Delicious Chocolate Bar\"\n\n5. Which of the following is NOT true of the relationship between subclasses and superclasses?\nSubclasses inherit non-private methods and fields from their superclass\nSubclasses can override inherited methods from their superclass\n*Subclasses can directly access private methods and fields of their superclass\nSubclasses can call the superclass constructor using the super keyword\nSubclasses can have additional methods and fields not present in their superclass\n\n7. In a Willy Wonka candy application, which of the following would be a good choice for an abstract class?\nJawbreaker\n*Candy\nGummyBear\nLicoriceSnap\nEverLastingGobstopper\n\n8. What does super(x, y, z) do in a constructor LicoriceSnap(int x, int y, int z)?\n*Calls the constructor of the superclass with parameters x, y, and z\nInitializes the fields x, y, and z in the LicoriceSnap class\nOverrides the constructor of the superclass with parameters x, y, and z\nCalls the constructor of the LicoriceSnap class with parameters x, y, and z\nDeclares the parameters x, y, and z in the LicoriceSnap constructor\n\n9. What does this.flavor = flavor do in a constructor Candy(String flavor)?\nCalls the setter method for the flavor field in the Candy class\nOverrides the flavor field in the superclass with the value of the flavor parameter\nDeclares the flavor field in the Candy class\n*Assigns the value of the flavor parameter to the flavor field of the Candy class\nInitializes the flavor field in the superclass with the value of the flavor parameter\n\n10. What does @Override void eat() do in a subclass ChocolateBar?\nDefines a new eat() method in the ChocolateBar class that is not present in its superclass\n*Indicates that the eat() method in ChocolateBar overrides the eat() method inherited from its superclass\nCalls the eat() method of the superclass from within the ChocolateBar class\nDeclares the eat() method as abstract in the ChocolateBar class\nHides the eat() method of the superclass in the ChocolateBar class\n"
          }
        },
        "abc7ec53226b4f4ea6d3abe12b952641": {
          "model_module": "@jupyter-widgets/base",
          "model_name": "LayoutModel",
          "model_module_version": "1.2.0",
          "state": {
            "_model_module": "@jupyter-widgets/base",
            "_model_module_version": "1.2.0",
            "_model_name": "LayoutModel",
            "_view_count": null,
            "_view_module": "@jupyter-widgets/base",
            "_view_module_version": "1.2.0",
            "_view_name": "LayoutView",
            "align_content": null,
            "align_items": null,
            "align_self": null,
            "border": null,
            "bottom": null,
            "display": null,
            "flex": null,
            "flex_flow": null,
            "grid_area": null,
            "grid_auto_columns": null,
            "grid_auto_flow": null,
            "grid_auto_rows": null,
            "grid_column": null,
            "grid_gap": null,
            "grid_row": null,
            "grid_template_areas": null,
            "grid_template_columns": null,
            "grid_template_rows": null,
            "height": "400px",
            "justify_content": null,
            "justify_items": null,
            "left": null,
            "margin": null,
            "max_height": null,
            "max_width": null,
            "min_height": null,
            "min_width": null,
            "object_fit": null,
            "object_position": null,
            "order": null,
            "overflow": null,
            "overflow_x": null,
            "overflow_y": null,
            "padding": null,
            "right": null,
            "top": null,
            "visibility": null,
            "width": "100%"
          }
        },
        "f09cab58b3a54ea1a909d3aa5edf8118": {
          "model_module": "@jupyter-widgets/controls",
          "model_name": "DescriptionStyleModel",
          "model_module_version": "1.5.0",
          "state": {
            "_model_module": "@jupyter-widgets/controls",
            "_model_module_version": "1.5.0",
            "_model_name": "DescriptionStyleModel",
            "_view_count": null,
            "_view_module": "@jupyter-widgets/base",
            "_view_module_version": "1.2.0",
            "_view_name": "StyleView",
            "description_width": ""
          }
        },
        "85cca228b43648fcb099cfd24b191d6a": {
          "model_module": "@jupyter-widgets/controls",
          "model_name": "ButtonModel",
          "model_module_version": "1.5.0",
          "state": {
            "_dom_classes": [],
            "_model_module": "@jupyter-widgets/controls",
            "_model_module_version": "1.5.0",
            "_model_name": "ButtonModel",
            "_view_count": null,
            "_view_module": "@jupyter-widgets/controls",
            "_view_module_version": "1.5.0",
            "_view_name": "ButtonView",
            "button_style": "",
            "description": "Submit",
            "disabled": false,
            "icon": "",
            "layout": "IPY_MODEL_509af1a8419142ab93be06afd235a6e8",
            "style": "IPY_MODEL_b925bc5638c34dbab85a87a8f9ec9930",
            "tooltip": ""
          }
        },
        "509af1a8419142ab93be06afd235a6e8": {
          "model_module": "@jupyter-widgets/base",
          "model_name": "LayoutModel",
          "model_module_version": "1.2.0",
          "state": {
            "_model_module": "@jupyter-widgets/base",
            "_model_module_version": "1.2.0",
            "_model_name": "LayoutModel",
            "_view_count": null,
            "_view_module": "@jupyter-widgets/base",
            "_view_module_version": "1.2.0",
            "_view_name": "LayoutView",
            "align_content": null,
            "align_items": null,
            "align_self": null,
            "border": null,
            "bottom": null,
            "display": null,
            "flex": null,
            "flex_flow": null,
            "grid_area": null,
            "grid_auto_columns": null,
            "grid_auto_flow": null,
            "grid_auto_rows": null,
            "grid_column": null,
            "grid_gap": null,
            "grid_row": null,
            "grid_template_areas": null,
            "grid_template_columns": null,
            "grid_template_rows": null,
            "height": null,
            "justify_content": null,
            "justify_items": null,
            "left": null,
            "margin": null,
            "max_height": null,
            "max_width": null,
            "min_height": null,
            "min_width": null,
            "object_fit": null,
            "object_position": null,
            "order": null,
            "overflow": null,
            "overflow_x": null,
            "overflow_y": null,
            "padding": null,
            "right": null,
            "top": null,
            "visibility": null,
            "width": null
          }
        },
        "b925bc5638c34dbab85a87a8f9ec9930": {
          "model_module": "@jupyter-widgets/controls",
          "model_name": "ButtonStyleModel",
          "model_module_version": "1.5.0",
          "state": {
            "_model_module": "@jupyter-widgets/controls",
            "_model_module_version": "1.5.0",
            "_model_name": "ButtonStyleModel",
            "_view_count": null,
            "_view_module": "@jupyter-widgets/base",
            "_view_module_version": "1.2.0",
            "_view_name": "StyleView",
            "button_color": null,
            "font_weight": ""
          }
        }
      }
    }
  },
  "cells": [
    {
      "cell_type": "markdown",
      "metadata": {
        "id": "view-in-github",
        "colab_type": "text"
      },
      "source": [
        "<a href=\"https://colab.research.google.com/github/brendanpshea/colab-utilities/blob/main/BrightSpace_QuizConverter.ipynb\" target=\"_parent\"><img src=\"https://colab.research.google.com/assets/colab-badge.svg\" alt=\"Open In Colab\"/></a>"
      ]
    },
    {
      "cell_type": "code",
      "execution_count": 2,
      "metadata": {
        "colab": {
          "base_uri": "https://localhost:8080/",
          "height": 509,
          "referenced_widgets": [
            "e38605628f494b418a7fe958b825744f",
            "abc7ec53226b4f4ea6d3abe12b952641",
            "f09cab58b3a54ea1a909d3aa5edf8118",
            "85cca228b43648fcb099cfd24b191d6a",
            "509af1a8419142ab93be06afd235a6e8",
            "b925bc5638c34dbab85a87a8f9ec9930"
          ]
        },
        "id": "1O7Hye0_HMRD",
        "outputId": "10f4cf4e-d8c1-4a2c-8f3d-e57d3127bbc1"
      },
      "outputs": [
        {
          "output_type": "display_data",
          "data": {
            "text/plain": [
              "Textarea(value='', description='Questions:', layout=Layout(height='400px', width='100%'), placeholder='Paste y…"
            ],
            "application/vnd.jupyter.widget-view+json": {
              "version_major": 2,
              "version_minor": 0,
              "model_id": "e38605628f494b418a7fe958b825744f"
            }
          },
          "metadata": {}
        },
        {
          "output_type": "display_data",
          "data": {
            "text/plain": [
              "Button(description='Submit', style=ButtonStyle())"
            ],
            "application/vnd.jupyter.widget-view+json": {
              "version_major": 2,
              "version_minor": 0,
              "model_id": "85cca228b43648fcb099cfd24b191d6a"
            }
          },
          "metadata": {}
        },
        {
          "output_type": "stream",
          "name": "stdout",
          "text": [
            "Processing completed. 57 questions have been processed.\n",
            "Output file: output.csv\n"
          ]
        }
      ],
      "source": [
        "import ipywidgets as widgets\n",
        "from IPython.display import display\n",
        "import csv\n",
        "import re\n",
        "import random\n",
        "\n",
        "def process_questions(questions, output_file):\n",
        "    with open(output_file, 'w', newline='', encoding='utf-8') as csv_file:\n",
        "        writer = csv.writer(csv_file, quotechar='\"', quoting=csv.QUOTE_ALL)\n",
        "        question_count = 0\n",
        "\n",
        "        for i, question in enumerate(questions.split('\\n\\n'), start=1):\n",
        "            lines = question.strip().split('\\n')\n",
        "            question_text = re.sub(r'^\\d+\\.\\s*', '', lines[0].strip())\n",
        "            options = [line.strip() for line in lines[1:] if line.strip()]\n",
        "\n",
        "            # Check if the question has more than 8 options\n",
        "            if len(options) > 8:\n",
        "                print(f\"Error: Question {i} has more than 8 options. Skipping this question.\")\n",
        "                continue\n",
        "\n",
        "            # Randomize the order of the options\n",
        "            random.shuffle(options)\n",
        "\n",
        "            writer.writerow(['NewQuestion', 'MC'])\n",
        "            writer.writerow(['QuestionText', question_text])\n",
        "\n",
        "            for option in options:\n",
        "                if option.startswith('*'):\n",
        "                    writer.writerow(['Option', '100', option[1:].strip()])\n",
        "                else:\n",
        "                    writer.writerow(['Option', '0', option.strip()])\n",
        "\n",
        "            question_count += 1\n",
        "\n",
        "    return question_count\n",
        "\n",
        "def on_submit(button):\n",
        "    questions = text_area.value\n",
        "    output_file = 'output.csv'\n",
        "\n",
        "    question_count = process_questions(questions, output_file)\n",
        "\n",
        "    print(f\"Processing completed. {question_count} questions have been processed.\")\n",
        "    print(f\"Output file: {output_file}\")\n",
        "\n",
        "# Create a large text area for pasting questions\n",
        "text_area = widgets.Textarea(\n",
        "    value='',\n",
        "    placeholder='Paste your questions here...',\n",
        "    description='Questions:',\n",
        "    layout=widgets.Layout(width='100%', height='400px')\n",
        ")\n",
        "\n",
        "# Create a submit button\n",
        "submit_button = widgets.Button(description=\"Submit\")\n",
        "submit_button.on_click(on_submit)\n",
        "\n",
        "# Display the text area and submit button\n",
        "display(text_area)\n",
        "display(submit_button)"
      ]
    }
  ]
}