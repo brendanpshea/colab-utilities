{
  "nbformat": 4,
  "nbformat_minor": 0,
  "metadata": {
    "colab": {
      "provenance": [],
      "authorship_tag": "ABX9TyNjmGuyrEzoFdBMatnbmN9H",
      "include_colab_link": true
    },
    "kernelspec": {
      "name": "python3",
      "display_name": "Python 3"
    },
    "language_info": {
      "name": "python"
    }
  },
  "cells": [
    {
      "cell_type": "markdown",
      "metadata": {
        "id": "view-in-github",
        "colab_type": "text"
      },
      "source": [
        "<a href=\"https://colab.research.google.com/github/brendanpshea/colab-utilities/blob/main/Java_Magic_For_Google_Colab.ipynb\" target=\"_parent\"><img src=\"https://colab.research.google.com/assets/colab-badge.svg\" alt=\"Open In Colab\"/></a>"
      ]
    },
    {
      "cell_type": "markdown",
      "source": [
        "# %%java Magic User's Guide\n",
        "\n",
        "The `%%java` magic is a custom magic command for Google Colab that allows you to write and execute Java code directly in a code cell. It provides a convenient way to prototype and run Java code snippets without the need for a separate Java development environment.\n",
        "\n",
        "## Usage\n",
        "\n",
        "To use the `%%java` magic, follow these steps:\n",
        "\n",
        "1. Make sure you have the `%%java` magic defined in a code cell in your Google Colab notebook. If not, run the code cell containing the magic definition.\n",
        "\n",
        "2. In a new code cell, start with the `%%java` magic command at the beginning of the cell.\n",
        "\n",
        "3. Write your Java code snippet below the `%%java` magic command. The code will be automatically embedded inside a `Main` class with a `main` method.\n",
        "\n",
        "4. Run the code cell. The Java code will be compiled and executed, and the output will be displayed below the cell.\n",
        "\n",
        "## Features\n",
        "\n",
        "- Automatic import statements: The `%%java` magic automatically includes import statements for commonly used Java libraries, such as `java.util.*`, `java.io.*`, `java.math.*`, `java.net.*`, `java.awt.*`, `java.awt.image.*`, and `javax.swing.*`. You can directly use classes from these libraries without explicitly importing them.\n",
        "\n",
        "- Code execution: The Java code snippet is compiled and executed using the `javac` and `java` commands, respectively. The output of the Java program is captured and displayed below the code cell.\n",
        "\n",
        "- Temporary files: The `%%java` magic creates temporary files (`Main.java` and `Main.class`) to store the Java code and compiled bytecode. These files are automatically cleaned up after the execution.\n",
        "\n",
        "## Example\n",
        "\n",
        "See examples below.\n",
        "```java\n"
      ],
      "metadata": {
        "id": "ZTyNzGRsSapY"
      }
    },
    {
      "cell_type": "code",
      "execution_count": 10,
      "metadata": {
        "id": "GKNjKv-iRBu1"
      },
      "outputs": [],
      "source": [
        "from IPython.core.magic import register_cell_magic\n",
        "import os\n",
        "import subprocess\n",
        "\n",
        "@register_cell_magic\n",
        "def java(line, cell):\n",
        "    # Create a temporary Java file\n",
        "    java_file = \"Main.java\"\n",
        "\n",
        "    # Write the Java code to the file\n",
        "    with open(java_file, \"w\") as f:\n",
        "        f.write(\"import java.util.*;\\n\")\n",
        "        f.write(\"import java.io.*;\\n\")\n",
        "        f.write(\"import java.math.*;\\n\")\n",
        "        f.write(\"\\n\")\n",
        "        f.write(\"public class Main {\\n\")\n",
        "        f.write(\"    public static void main(String[] args) {\\n\")\n",
        "        f.write(\"        \" + cell + \"\\n\")\n",
        "        f.write(\"    }\\n\")\n",
        "        f.write(\"}\\n\")\n",
        "\n",
        "    # Compile the Java file and capture the output\n",
        "    compile_command = [\"javac\", java_file]\n",
        "    try:\n",
        "        subprocess.run(compile_command, check=True, stderr=subprocess.PIPE, universal_newlines=True)\n",
        "    except subprocess.CalledProcessError as e:\n",
        "        print(f\"Compilation error:\\n{e.stderr}\")\n",
        "        os.remove(java_file)\n",
        "        return\n",
        "\n",
        "    # Run the Java program and capture the output\n",
        "    run_command = [\"java\", \"Main\"]\n",
        "    output = subprocess.run(run_command, capture_output=True, text=True, check=True)\n",
        "\n",
        "    # Print the output\n",
        "    print(output.stdout)\n",
        "\n",
        "    # Clean up the generated files\n",
        "    os.remove(java_file)\n",
        "    os.remove(\"Main.class\")"
      ]
    },
    {
      "cell_type": "code",
      "source": [
        "%%java\n",
        "System.out.println(\"Hello, world!\");"
      ],
      "metadata": {
        "colab": {
          "base_uri": "https://localhost:8080/"
        },
        "id": "AR65e7SERFmB",
        "outputId": "590d370e-db9b-477c-e4c4-14dd7a39bda9"
      },
      "execution_count": 6,
      "outputs": [
        {
          "output_type": "stream",
          "name": "stdout",
          "text": [
            "Hello, world!\n",
            "\n"
          ]
        }
      ]
    },
    {
      "cell_type": "code",
      "source": [
        "%%java\n",
        "List<String> fruits = new ArrayList<>();\n",
        "fruits.add(\"Apple\");\n",
        "fruits.add(\"Banana\");\n",
        "fruits.add(\"Orange\");\n",
        "\n",
        "for (String fruit : fruits) {\n",
        "    System.out.println(fruit);\n",
        "}"
      ],
      "metadata": {
        "colab": {
          "base_uri": "https://localhost:8080/"
        },
        "id": "qMbrdW8gSsH6",
        "outputId": "cca4c0bb-eaa7-40b8-a52e-d0246fc2eda2"
      },
      "execution_count": 11,
      "outputs": [
        {
          "output_type": "stream",
          "name": "stdout",
          "text": [
            "Apple\n",
            "Banana\n",
            "Orange\n",
            "\n"
          ]
        }
      ]
    }
  ]
}